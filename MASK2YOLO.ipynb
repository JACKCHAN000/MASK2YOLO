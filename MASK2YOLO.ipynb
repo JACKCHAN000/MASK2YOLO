{
 "cells": [
  {
   "cell_type": "code",
   "execution_count": 1,
   "metadata": {},
   "outputs": [],
   "source": [
    "import os, json, numpy as np\n",
    "from tqdm import tqdm\n",
    "from imantics import Mask, Image, Category, Dataset, Polygons\n",
    "import cv2\n",
    "import matplotlib.pyplot as plt\n",
    "import glob"
   ]
  },
  {
   "cell_type": "code",
   "execution_count": 2,
   "metadata": {},
   "outputs": [],
   "source": [
    "folder=\"sample\\\\\"\n",
    "labels_folder=\"sample\\\\\"\n",
    "lst_img=glob.glob(folder+\"*.jpg\")"
   ]
  },
  {
   "cell_type": "code",
   "execution_count": 3,
   "metadata": {},
   "outputs": [
    {
     "name": "stdout",
     "output_type": "stream",
     "text": [
      "sample\\sample.jpg\n",
      "529 622\n"
     ]
    }
   ],
   "source": [
    "for img in lst_img:\n",
    "    print(img)\n",
    "    array = cv2.imread(img, cv2.IMREAD_GRAYSCALE)\n",
    "    h,w = array.shape\n",
    "    print(h,w)\n",
    "    txt_path=labels_folder+img.split(\"\\\\\")[-1].split(\".\")[0]+\".txt\"\n",
    "    # Construct some test data\n",
    "    poly = Mask(array).polygons()\n",
    "    segmentation=poly.segmentation\n",
    "    seg=sorted(segmentation, key=len, reverse=True)\n",
    "    n=0\n",
    "    for i in seg:\n",
    "        x=i[0::2]\n",
    "        y=i[1::2]\n",
    "        classid=\"0\"\n",
    "        seg_out=classid+\" \"\n",
    "        for cord_x,cord_y in zip(x,y):\n",
    "            if cord_x < 0:\n",
    "                cord_x=0\n",
    "            if cord_y < 0:\n",
    "                cord_y=0\n",
    "            cord_x=cord_x/w\n",
    "            cord_y=cord_y/h\n",
    "\n",
    "            seg_out+=str(cord_x)+\" \"+str(cord_y)+\" \"\n",
    "        seg_out[:-1]\n",
    "        with open(txt_path, \"a\") as file:\n",
    "            file.write(seg_out[:-1] + \"\\n\")\n",
    "        n+=1\n",
    "        if n==1:\n",
    "            break\n"
   ]
  }
 ],
 "metadata": {
  "kernelspec": {
   "display_name": "base",
   "language": "python",
   "name": "python3"
  },
  "language_info": {
   "codemirror_mode": {
    "name": "ipython",
    "version": 3
   },
   "file_extension": ".py",
   "mimetype": "text/x-python",
   "name": "python",
   "nbconvert_exporter": "python",
   "pygments_lexer": "ipython3",
   "version": "3.9.7"
  },
  "orig_nbformat": 4,
  "vscode": {
   "interpreter": {
    "hash": "394f2703bfb504d879b9bde927df795379538c200b0e1d39b5d0fc1c16dc7394"
   }
  }
 },
 "nbformat": 4,
 "nbformat_minor": 2
}
